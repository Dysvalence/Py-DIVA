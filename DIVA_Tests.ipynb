{
 "cells": [
  {
   "cell_type": "code",
   "execution_count": 1,
   "metadata": {
    "collapsed": false
   },
   "outputs": [
    {
     "name": "stderr",
     "output_type": "stream",
     "text": [
      "Using Theano backend.\n",
      "Using gpu device 0: GeForce GTX 960 (CNMeM is enabled with initial size: 70.0% of memory, cuDNN 4007)\n"
     ]
    },
    {
     "name": "stdout",
     "output_type": "stream",
     "text": [
      "Model compiled\n",
      "Testing shared layer\n",
      "Testing divergent channels\n",
      "Done testing\n",
      "Testing learning\n",
      "Epoch 1\n",
      "Loss 1034.165052\n",
      "Test Accuracy: 0.945100\n",
      "Done training\n",
      "Test Accuracy: 0.945100\n",
      "Epoch 1\n",
      "Loss 696.646089\n",
      "Test Accuracy: 0.945200\n",
      "Done training\n",
      "Test Accuracy: 0.945200\n",
      "Checking for loss reduction\n",
      "Checking for test accuracy increase\n",
      "Done testing\n",
      "Restesting channels\n",
      "Testing shared layer\n",
      "Testing divergent channels\n",
      "Done testing\n",
      "Done\n"
     ]
    }
   ],
   "source": [
    "\"\"\"\n",
    "ipython notebook version of diva_tests.py to allow for easier running in a jupyter environment.\n",
    "\"\"\"\n",
    "\n",
    "import DIVA\n",
    "import diva_tests\n",
    "diva_tests.testDiva()"
   ]
  },
  {
   "cell_type": "code",
   "execution_count": null,
   "metadata": {
    "collapsed": true
   },
   "outputs": [],
   "source": []
  }
 ],
 "metadata": {
  "kernelspec": {
   "display_name": "Python 2",
   "language": "python",
   "name": "python2"
  },
  "language_info": {
   "codemirror_mode": {
    "name": "ipython",
    "version": 2
   },
   "file_extension": ".py",
   "mimetype": "text/x-python",
   "name": "python",
   "nbconvert_exporter": "python",
   "pygments_lexer": "ipython2",
   "version": "2.7.6"
  }
 },
 "nbformat": 4,
 "nbformat_minor": 0
}
